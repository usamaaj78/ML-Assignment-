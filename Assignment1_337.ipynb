{
 "cells": [
  {
   "cell_type": "code",
   "execution_count": null,
   "id": "e25df458",
   "metadata": {},
   "outputs": [],
   "source": [
    "import math as mt\n",
    "import numpy as np\n",
    "d = [(1,3),(5,8)]\n",
    "for i in range(2):\n",
    "    for j in range(2):\n",
    "        dis_loops = mt.sqrt((d[i][j])-(d[i][j])**2)\n",
    "        \n",
    "for i in range(2):\n",
    "    for j in range(2):\n",
    "        dis_vect = np.linalg.norm(d[i]-d[j])\n",
    "                           \n",
    "%timeit dis_loops\n",
    "%timeit dis_vect\n"
   ]
  }
 ],
 "metadata": {
  "kernelspec": {
   "display_name": "Python 3 (ipykernel)",
   "language": "python",
   "name": "python3"
  },
  "language_info": {
   "codemirror_mode": {
    "name": "ipython",
    "version": 3
   },
   "file_extension": ".py",
   "mimetype": "text/x-python",
   "name": "python",
   "nbconvert_exporter": "python",
   "pygments_lexer": "ipython3",
   "version": "3.9.12"
  }
 },
 "nbformat": 4,
 "nbformat_minor": 5
}
