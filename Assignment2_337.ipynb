{
 "cells": [
  {
   "cell_type": "code",
   "execution_count": null,
   "metadata": {},
   "outputs": [],
   "source": []
  },
  {
   "cell_type": "code",
   "execution_count": null,
   "metadata": {
    "colab": {
     "base_uri": "https://localhost:8080/"
    },
    "id": "8NLAVsmqwL5L",
    "outputId": "b839c38f-5292-4d46-f4ce-e463ed4b0fb5"
   },
   "outputs": [
    {
     "name": "stdout",
     "output_type": "stream",
     "text": [
      "Mounted at /content/drive\n"
     ]
    }
   ],
   "source": [
    "#link my Google drive\n",
    "\n",
    "from google.colab import drive\n",
    "drive.mount('/content/drive')"
   ]
  },
  {
   "cell_type": "code",
   "execution_count": null,
   "metadata": {
    "colab": {
     "base_uri": "https://localhost:8080/"
    },
    "id": "ywwMsbDCwSW6",
    "outputId": "a8b57d57-f6da-469e-ea3e-747551330c05"
   },
   "outputs": [
    {
     "name": "stdout",
     "output_type": "stream",
     "text": [
      "(506, 13)\n",
      "(506,)\n"
     ]
    }
   ],
   "source": [
    " # load Boston House data set\n",
    "import pandas as pd\n",
    "import numpy as np\n",
    "\n",
    "raw_data = pd.read_csv('/content/drive/My Drive/Colab Notebooks/datasets/boston.csv', header=None)\n",
    "data_rows = np.reshape(raw_data.to_numpy(), (506,14))\n",
    "data = data_rows[:,:13]\n",
    "target = data_rows[:,13]\n",
    "\n",
    "# normalize input features to zero-mean and unit-variance\n",
    "data = (data-np.mean(data, axis=0))/np.std(data, axis=0) \n",
    "\n",
    "print(data.shape)\n",
    "print(target.shape)"
   ]
  },
  {
   "cell_type": "code",
   "execution_count": null,
   "metadata": {
    "colab": {
     "base_uri": "https://localhost:8080/"
    },
    "id": "4NcXAiFi0Iby",
    "outputId": "f33af958-7e60-4ab5-c117-2ad0729518bc"
   },
   "outputs": [
    {
     "name": "stdout",
     "output_type": "stream",
     "text": [
      "(506, 14)\n",
      "mean square error for the closed-form solution: 21.895\n"
     ]
    }
   ],
   "source": [
    "# add a constant column of '1' to accomodate the bias \n",
    "data_wb = np.hstack((data, np.ones((data.shape[0], 1), dtype=data.dtype)))\n",
    "\n",
    "print(data_wb.shape)\n",
    "\n",
    "# refer to the closed-form solution\n",
    "w = np.linalg.inv(data_wb.T @ data_wb) @ data_wb.T @ target\n",
    "\n",
    "# calculate the mean square error in the training set\n",
    "predict = data_wb @ w \n",
    "error = np.sum((predict - target)*(predict - target))/data.shape[0]\n",
    "\n",
    "print(f'mean square error for the closed-form solution: {error:.3f}')"
   ]
  },
  {
   "cell_type": "code",
   "execution_count": 3,
   "metadata": {
    "id": "IjIFOVy3LMIw"
   },
   "outputs": [],
   "source": [
    "# solve ridge regression using gradient descent \n",
    "import numpy as np\n",
    "\n",
    "class Optimizer():\n",
    "  def __init__(self, rr, annealing_rate, batch_size, max_epochs):\n",
    "    self.rr = rr\n",
    "    self.annealing_rate = annealing_rate\n",
    "    self.batch_size = batch_size\n",
    "    self.max_epochs = max_epochs\n",
    "\n",
    "def ridge_regression_gd(X, y, op):\n",
    "  n = X.shape[0]   # number of samples\n",
    "  w = np.zeros(X.shape[1])  # initialization\n",
    "\n",
    "  rr = op.rr\n",
    "  errors = np.zeros(op.max_epochs)\n",
    "  for epoch in range(op.max_epochs):\n",
    "    indices = np.random.permutation(n)  #randomly shuffle data indices\n",
    "    for batch_start in range(0, n, op.batch_size):\n",
    "      X_batch = X[indices[batch_start:batch_start + op.batch_size]]\n",
    "      y_batch = y[indices[batch_start:batch_start + op.batch_size]]\n",
    "\n",
    "      # vectorization to compute gradients for a whole mini-batch (see the above formula)\n",
    "      w_grad = X_batch.T @ X_batch @ w - X_batch.T @ y_batch \n",
    "\n",
    "      w -= rr * w_grad / X_batch.shape[0]\n",
    "\n",
    "    diff = X @ w - y  # prediction difference\n",
    "    errors[epoch] = np.sum(diff*diff)/n\n",
    "    rr *= op.annealing_rate\n",
    "    #print(f'epoch={epoch}: the mean square error is {errors[epoch]}')\n",
    "\n",
    "  return w, errors"
   ]
  },
  {
   "cell_type": "code",
   "execution_count": 4,
   "metadata": {
    "colab": {
     "base_uri": "https://localhost:8080/",
     "height": 312
    },
    "id": "oM0FfN_fTEb3",
    "outputId": "256555c4-c67e-4a58-da6a-ef6dff9602a9"
   },
   "outputs": [
    {
     "ename": "NameError",
     "evalue": "name 'ridge_regression_gd' is not defined",
     "output_type": "error",
     "traceback": [
      "\u001b[1;31m---------------------------------------------------------------------------\u001b[0m",
      "\u001b[1;31mNameError\u001b[0m                                 Traceback (most recent call last)",
      "Input \u001b[1;32mIn [4]\u001b[0m, in \u001b[0;36m<cell line: 5>\u001b[1;34m()\u001b[0m\n\u001b[0;32m      1\u001b[0m \u001b[38;5;28;01mimport\u001b[39;00m \u001b[38;5;21;01mmatplotlib\u001b[39;00m\u001b[38;5;21;01m.\u001b[39;00m\u001b[38;5;21;01mpyplot\u001b[39;00m \u001b[38;5;28;01mas\u001b[39;00m \u001b[38;5;21;01mplt\u001b[39;00m\n\u001b[0;32m      3\u001b[0m op \u001b[38;5;241m=\u001b[39m Optimizer(lr\u001b[38;5;241m=\u001b[39m\u001b[38;5;241m0.001\u001b[39m, annealing_rate\u001b[38;5;241m=\u001b[39m\u001b[38;5;241m0.99\u001b[39m, batch_size\u001b[38;5;241m=\u001b[39m\u001b[38;5;241m30\u001b[39m, max_epochs\u001b[38;5;241m=\u001b[39m\u001b[38;5;241m500\u001b[39m)\n\u001b[1;32m----> 5\u001b[0m w, errors \u001b[38;5;241m=\u001b[39m \u001b[43mridge_regression_gd\u001b[49m(data_wb, target, op)\n\u001b[0;32m      7\u001b[0m plt\u001b[38;5;241m.\u001b[39mtitle(\u001b[38;5;124m'\u001b[39m\u001b[38;5;124mA larger mini-batch; converging smoothly but still a gap\u001b[39m\u001b[38;5;124m'\u001b[39m)\n\u001b[0;32m      8\u001b[0m plt\u001b[38;5;241m.\u001b[39mxlabel(\u001b[38;5;124m'\u001b[39m\u001b[38;5;124mnumber of epoches\u001b[39m\u001b[38;5;124m'\u001b[39m)\n",
      "\u001b[1;31mNameError\u001b[0m: name 'ridge_regression_gd' is not defined"
     ]
    }
   ],
   "source": [
    "import matplotlib.pyplot as plt\n",
    "\n",
    "op = Optimizer(rr=0.001, annealing_rate=0.99, batch_size=30, max_epochs=500)\n",
    "\n",
    "w, errors = ridge_regression_gd(data_wb, target, op)\n",
    "\n",
    "plt.title('A larger mini-batch; converging smoothly but still a gap')\n",
    "plt.xlabel('number of epoches')\n",
    "plt.plot(errors, 'b', 21.89*np.ones(errors.shape[0]), 'c--')\n",
    "plt.legend(['gradient descent', 'closed-form solution'])"
   ]
  },
  {
   "cell_type": "code",
   "execution_count": 2,
   "metadata": {
    "colab": {
     "base_uri": "https://localhost:8080/"
    },
    "id": "VklaWN9hQ30j",
    "outputId": "5b33a0d1-1648-4456-d877-debcac3e90b7"
   },
   "outputs": [
    {
     "ename": "NameError",
     "evalue": "name 'data_wb' is not defined",
     "output_type": "error",
     "traceback": [
      "\u001b[1;31m---------------------------------------------------------------------------\u001b[0m",
      "\u001b[1;31mNameError\u001b[0m                                 Traceback (most recent call last)",
      "Input \u001b[1;32mIn [2]\u001b[0m, in \u001b[0;36m<cell line: 9>\u001b[1;34m()\u001b[0m\n\u001b[0;32m      6\u001b[0m l_regr \u001b[38;5;241m=\u001b[39m linear_model\u001b[38;5;241m.\u001b[39mLinearRegression()\n\u001b[0;32m      8\u001b[0m \u001b[38;5;66;03m# Train the model using the training set\u001b[39;00m\n\u001b[1;32m----> 9\u001b[0m l_regr\u001b[38;5;241m.\u001b[39mfit(\u001b[43mdata_wb\u001b[49m, target)\n\u001b[0;32m     11\u001b[0m \u001b[38;5;66;03m# Make predictions using the same training set\u001b[39;00m\n\u001b[0;32m     12\u001b[0m predict \u001b[38;5;241m=\u001b[39m l_regr\u001b[38;5;241m.\u001b[39mpredict(data_wb)\n",
      "\u001b[1;31mNameError\u001b[0m: name 'data_wb' is not defined"
     ]
    }
   ],
   "source": [
    "import numpy as np\n",
    "from sklearn import ridge_model\n",
    "from sklearn.metrics import mean_squared_error\n",
    "\n",
    "# Create ridge regression object\n",
    "r_regr = ridge_model.ridgeRegression()\n",
    "\n",
    "# Train the model using the training set\n",
    "r_regr.fit(data_wb, target)\n",
    "\n",
    "# Make predictions using the same training set\n",
    "predict = r_regr.predict(data_wb)\n",
    "\n",
    "# The mean squared error\n",
    "print(\"Mean squared error: %.5f\" % mean_squared_error(target, predict))"
   ]
  },
  {
   "cell_type": "markdown",
   "metadata": {
    "id": "btDYTohgphEr"
   },
   "source": [
    "## **II. Linear Regression for Classification**"
   ]
  },
  {
   "cell_type": "markdown",
   "metadata": {
    "id": "R3fBCGWUs4DU"
   },
   "source": [
    "### **Example 2.2:**\n",
    "\n",
    "Use lasso regression to build a binary classifier to classify two digits ('3' and '8') in the MNIST data set. Consider to use both the closed-form solution and an iterative method to fit to the data and discuss their pros and cons with experimental results."
   ]
  },
  {
   "cell_type": "code",
   "execution_count": null,
   "metadata": {
    "colab": {
     "base_uri": "https://localhost:8080/"
    },
    "id": "EYl7Mqk-8hLt",
    "outputId": "b6197e07-5176-464c-c692-2bcc46d6f336"
   },
   "outputs": [
    {
     "name": "stdout",
     "output_type": "stream",
     "text": [
      "Looking in indexes: https://pypi.org/simple, https://us-python.pkg.dev/colab-wheels/public/simple/\n",
      "Requirement already satisfied: python_mnist in /usr/local/lib/python3.7/dist-packages (0.7)\n"
     ]
    }
   ],
   "source": [
    "# install python_mnist\n",
    "\n",
    "!pip install python_mnist"
   ]
  },
  {
   "cell_type": "code",
   "execution_count": null,
   "metadata": {
    "colab": {
     "base_uri": "https://localhost:8080/"
    },
    "id": "AK3NA7OkjyGV",
    "outputId": "bd8b7d06-9f65-4ce8-d239-fbe63632b276"
   },
   "outputs": [
    {
     "name": "stdout",
     "output_type": "stream",
     "text": [
      "Looking in indexes: https://pypi.org/simple, https://us-python.pkg.dev/colab-wheels/public/simple/\n",
      "Requirement already satisfied: idx2numpy in /usr/local/lib/python3.7/dist-packages (1.2.3)\n",
      "Requirement already satisfied: numpy in /usr/local/lib/python3.7/dist-packages (from idx2numpy) (1.21.6)\n",
      "Requirement already satisfied: six in /usr/local/lib/python3.7/dist-packages (from idx2numpy) (1.15.0)\n"
     ]
    }
   ],
   "source": [
    "# install idx2numpy\n",
    "\n",
    "!pip install idx2numpy"
   ]
  },
  {
   "cell_type": "code",
   "execution_count": null,
   "metadata": {
    "colab": {
     "base_uri": "https://localhost:8080/"
    },
    "id": "ptEquz9LpIfQ",
    "outputId": "8058cb47-292b-4a5d-c970-a3178db80346"
   },
   "outputs": [
    {
     "name": "stdout",
     "output_type": "stream",
     "text": [
      "(60000, 784) (60000,) (10000, 784) (10000,)\n"
     ]
    }
   ],
   "source": [
    "#load MINST images\n",
    "\n",
    "import idx2numpy\n",
    "#from mnist import MNIST\n",
    "import numpy as np\n",
    "\n",
    "train_data = idx2numpy.convert_from_file('/content/drive/My Drive/Colab Notebooks/datasets/MNIST/train-images.idx3-ubyte')\n",
    "train_data = np.reshape(train_data,(60000,28*28))\n",
    "train_label = idx2numpy.convert_from_file('/content/drive/My Drive/Colab Notebooks/datasets/MNIST/train-labels.idx1-ubyte')\n",
    "test_data=idx2numpy.convert_from_file('/content/drive/My Drive/Colab Notebooks/datasets/MNIST/t10k-images.idx3-ubyte')\n",
    "test_data = np.reshape(test_data,(10000,28*28))\n",
    "test_label = idx2numpy.convert_from_file('/content/drive/My Drive/Colab Notebooks/datasets/MNIST/t10k-labels.idx1-ubyte') \n",
    "train_data = np.array(train_data, dtype='float')/255 # norm to [0,1]\n",
    "train_label = np.array(train_label, dtype='short')\n",
    "test_data = np.array(test_data, dtype='float')/255 # norm to [0,1]\n",
    "test_label = np.array(test_label, dtype='short')\n",
    "\n",
    "#add small random noise to avoid matrix singularity\n",
    "train_data += np.random.normal(0,0.0001,train_data.shape) \n",
    "\n",
    "print(train_data.shape, train_label.shape, test_data.shape, test_label.shape)"
   ]
  },
  {
   "cell_type": "code",
   "execution_count": null,
   "metadata": {
    "colab": {
     "base_uri": "https://localhost:8080/"
    },
    "id": "EW_LFVRd9Gqu",
    "outputId": "5b2daf5f-1cb6-41e8-a2df-dcd3fc364a74"
   },
   "outputs": [
    {
     "name": "stdout",
     "output_type": "stream",
     "text": [
      "(11982, 785)\n",
      "[-1 -1 -1 ...  1 -1  1]\n",
      "(1984, 785)\n",
      "[-1 -1 -1 ... -1  1 -1]\n"
     ]
    }
   ],
   "source": [
    "# prepare digits '3' and '8' for linear regression\n",
    "\n",
    "digit_train_index = np.logical_or(train_label == 3, train_label == 8)\n",
    "X_train = train_data[digit_train_index]\n",
    "y_train = train_label[digit_train_index]\n",
    "digit_test_index = np.logical_or(test_label == 3, test_label == 8)\n",
    "X_test = test_data[digit_test_index]\n",
    "y_test = test_label[digit_test_index]\n",
    "\n",
    "# add a constant column of '1' to accomodate the bias (see the margin note on page 107)\n",
    "X_train = np.hstack((X_train, np.ones((X_train.shape[0], 1), dtype=X_train.dtype)))\n",
    "X_test = np.hstack((X_test, np.ones((X_test.shape[0], 1), dtype=X_test.dtype)))\n",
    "\n",
    "# convert labels: '3' => -1, '8' => +1\n",
    "CUTOFF = 5 # any number between '3' and '8'\n",
    "y_train = np.sign(y_train-CUTOFF)\n",
    "y_test = np.sign(y_test-CUTOFF)\n",
    "\n",
    "print(X_train.shape)\n",
    "print(y_train)\n",
    "\n",
    "print(X_test.shape)\n",
    "print(y_test)"
   ]
  },
  {
   "cell_type": "code",
   "execution_count": null,
   "metadata": {
    "colab": {
     "base_uri": "https://localhost:8080/"
    },
    "id": "_6Fl6cLIBZhx",
    "outputId": "1df6f864-be82-4933-bf1b-a0d544f76286"
   },
   "outputs": [
    {
     "name": "stdout",
     "output_type": "stream",
     "text": [
      "mean square error on training data for the closed-form solution: 0.19562\n",
      "classification accuracy on training data for the closed-form solution: 96.98%\n",
      "mean square error on test data for the closed-form solution: 0.46899\n",
      "classification accuracy on test data for the closed-form solution: 95.82%\n"
     ]
    }
   ],
   "source": [
    "# use the closed-form solution\n",
    "\n",
    "# refer to the closed-form solution, i.e. Eq.(6.9) on page 112\n",
    "w = np.linalg.inv(X_train.T @ X_train) @ X_train.T @ y_train\n",
    "\n",
    "# calculate the mean square error and classification accuracy on the training set\n",
    "predict = X_train @ w \n",
    "error = np.sum((predict - y_train)*(predict - y_train))/X_train.shape[0]\n",
    "print(f'mean square error on training data for the closed-form solution: {error:.5f}')\n",
    "\n",
    "accuracy = np.count_nonzero(np.equal(np.sign(predict),y_train))/y_train.size*100.0\n",
    "print(f'classification accuracy on training data for the closed-form solution: {accuracy:.2f}%')\n",
    "\n",
    "# calculate the mean square error and classification accuracy on the test set\n",
    "predict = X_test @ w \n",
    "error = np.sum((predict - y_test)*(predict - y_test))/X_test.shape[0]\n",
    "print(f'mean square error on test data for the closed-form solution: {error:.5f}')\n",
    "\n",
    "accuracy = np.count_nonzero(np.equal(np.sign(predict),y_test))/y_test.size*100.0\n",
    "print(f'classification accuracy on test data for the closed-form solution: {accuracy:.2f}%')"
   ]
  },
  {
   "cell_type": "code",
   "execution_count": null,
   "metadata": {
    "colab": {
     "base_uri": "https://localhost:8080/"
    },
    "id": "12GPeyQHKtgQ",
    "outputId": "108512e4-3f6a-419d-c966-1495d799b12e"
   },
   "outputs": [
    {
     "name": "stdout",
     "output_type": "stream",
     "text": [
      "Mean squared error on training data: 0.19562\n",
      "Mean squared error on test data: 0.46899\n"
     ]
    }
   ],
   "source": [
    "# use lasso regression from sklearn\n",
    "\n",
    "import numpy as np\n",
    "from sklearn import lasso_model\n",
    "from sklearn.metrics import mean_squared_error\n",
    "\n",
    "# Create lasso regression object\n",
    "l_regr = lasso_model.LinearRegression()\n",
    "\n",
    "# Train the model using the training set\n",
    "l_regr.fit(X_train, y_train)\n",
    "\n",
    "# Make predictions using the same training set\n",
    "predict = l_regr.predict(X_train)\n",
    "print(\"Mean squared error on training data: %.5f\" % mean_squared_error(y_train, predict))\n",
    "\n",
    "# Make predictions using the test set\n",
    "predict = l_regr.predict(X_test)\n",
    "print(\"Mean squared error on test data: %.5f\" % mean_squared_error(y_test, predict))"
   ]
  },
  {
   "cell_type": "code",
   "execution_count": null,
   "metadata": {
    "id": "oIwIS_dARYak"
   },
   "outputs": [],
   "source": [
    "# solve lasso regression using gradient descent \n",
    "import numpy as np\n",
    "\n",
    "class Optimizer():\n",
    "  def __init__(self, lr, annealing_rate, batch_size, max_epochs):\n",
    "    self.lr = lr\n",
    "    self.annealing_rate = annealing_rate\n",
    "    self.batch_size = batch_size\n",
    "    self.max_epochs = max_epochs\n",
    "\n",
    "# X[N,d]: training features; y[N]: training targets; \n",
    "# X2[N,d]: test features; y2[N]: test targets;  \n",
    "# op: hyper-parameters for optimzer \n",
    "#\n",
    "# Note: X2 and y2 are not used in training\n",
    "#       but only for computting the learning curve B\n",
    "#\n",
    "def lasso_regression_gd2(X, y, X2, y2, op):\n",
    "  n = X.shape[0]   # number of samples\n",
    "  w = np.zeros(X.shape[1])  # initialization\n",
    "\n",
    "  lr = op.lr\n",
    "  errorsA = np.zeros(op.max_epochs)\n",
    "  errorsB = np.zeros(op.max_epochs)\n",
    "  errorsC = np.zeros(op.max_epochs)\n",
    "\n",
    "  for epoch in range(op.max_epochs):\n",
    "    indices = np.random.permutation(n)  #randomly shuffle data indices\n",
    "    for batch_start in range(0, n, op.batch_size):\n",
    "      X_batch = X[indices[batch_start:batch_start + op.batch_size]]\n",
    "      y_batch = y[indices[batch_start:batch_start + op.batch_size]]\n",
    "\n",
    "      # vectorization to compute gradients for a whole mini-batch (see the above formula)\n",
    "      w_grad = X_batch.T @ X_batch @ w - X_batch.T @ y_batch \n",
    "\n",
    "      w -= lr * w_grad / X_batch.shape[0] \n",
    "\n",
    "    # for learning curve C\n",
    "    diff = X @ w - y  # prediction difference\n",
    "    errorsC[epoch] = np.sum(diff*diff)/n   \n",
    "\n",
    "    # for learning curve A\n",
    "    predict = np.sign(X @ w)\n",
    "    errorsA[epoch] = np.count_nonzero(np.equal(predict,y))/y.size \n",
    "\n",
    "    # for learning curve B\n",
    "    predict2 = np.sign(X2 @ w)\n",
    "    errorsB[epoch] = np.count_nonzero(np.equal(predict2,y2))/y2.size\n",
    "\n",
    "    lr *= op.annealing_rate\n",
    "    print(f'epoch={epoch}: the mean square error is {errorsC[epoch]:.3f} ({errorsA[epoch]:.3f},{errorsB[epoch]:.3f})')\n",
    "\n",
    "  return w, errorsA, errorsB, errorsC"
   ]
  },
  {
   "cell_type": "code",
   "execution_count": null,
   "metadata": {
    "colab": {
     "base_uri": "https://localhost:8080/",
     "height": 658
    },
    "id": "l94Agxq3r_IE",
    "outputId": "9b1b91fd-be3a-497c-b045-9926f45764e1"
   },
   "outputs": [
    {
     "name": "stdout",
     "output_type": "stream",
     "text": [
      "epoch=0: the mean square error is 0.399 (0.910,0.919)\n",
      "epoch=1: the mean square error is 0.309 (0.929,0.942)\n",
      "epoch=2: the mean square error is 0.279 (0.939,0.951)\n",
      "epoch=3: the mean square error is 0.263 (0.944,0.957)\n",
      "epoch=4: the mean square error is 0.254 (0.948,0.959)\n",
      "epoch=5: the mean square error is 0.248 (0.951,0.961)\n",
      "epoch=6: the mean square error is 0.244 (0.953,0.963)\n",
      "epoch=7: the mean square error is 0.240 (0.954,0.964)\n",
      "epoch=8: the mean square error is 0.238 (0.955,0.963)\n",
      "epoch=9: the mean square error is 0.235 (0.956,0.964)\n",
      "epoch=10: the mean square error is 0.234 (0.957,0.963)\n",
      "epoch=11: the mean square error is 0.232 (0.957,0.964)\n",
      "epoch=12: the mean square error is 0.231 (0.958,0.964)\n",
      "epoch=13: the mean square error is 0.230 (0.958,0.964)\n",
      "epoch=14: the mean square error is 0.229 (0.959,0.964)\n",
      "epoch=15: the mean square error is 0.228 (0.959,0.963)\n",
      "epoch=16: the mean square error is 0.227 (0.960,0.962)\n",
      "epoch=17: the mean square error is 0.226 (0.959,0.964)\n",
      "epoch=18: the mean square error is 0.225 (0.960,0.963)\n",
      "epoch=19: the mean square error is 0.225 (0.960,0.963)\n"
     ]
    },
    {
     "data": {
      "text/plain": [
       "<matplotlib.legend.Legend at 0x7f2b0e257310>"
      ]
     },
     "execution_count": 43,
     "metadata": {},
     "output_type": "execute_result"
    },
    {
     "data": {
      "image/png": "[encoded data removed]",
      "text/plain": [
       "<Figure size 432x288 with 2 Axes>"
      ]
     },
     "metadata": {
      "needs_background": "light"
     },
     "output_type": "display_data"
    }
   ],
   "source": [
    "import matplotlib.pyplot as plt\n",
    "\n",
    "op = Optimizer(lr=0.001, annealing_rate=0.99, batch_size=50, max_epochs=20)\n",
    "\n",
    "w, A, B, C = lasso_regression_gd2(X_train, y_train, X_test, y_test, op)\n",
    "\n",
    "fig, ax = plt.subplots(2)\n",
    "fig.suptitle('monitoring three learning curves (A, B, C)')\n",
    "ax[0].plot(C, 'b', 0.196*np.ones(C.shape[0]), 'c--')\n",
    "ax[0].legend(['curve C', 'closed-form solution'])\n",
    "\n",
    "ax[1].plot(A, 'b', B, 'r')\n",
    "ax[1].legend(['curve A', 'curve B'])"
   ]
  },
  {
   "cell_type": "code",
   "execution_count": 5,
   "metadata": {
    "colab": {
     "base_uri": "https://localhost:8080/",
     "height": 485
    },
    "id": "JBYVwyd1_GBa",
    "outputId": "0c4e42b2-d4fe-4e73-cd07-bf449cf7d309"
   },
   "outputs": [
    {
     "ename": "NameError",
     "evalue": "name 'lasso_regression_gd2' is not defined",
     "output_type": "error",
     "traceback": [
      "\u001b[1;31m---------------------------------------------------------------------------\u001b[0m",
      "\u001b[1;31mNameError\u001b[0m                                 Traceback (most recent call last)",
      "Input \u001b[1;32mIn [5]\u001b[0m, in \u001b[0;36m<cell line: 5>\u001b[1;34m()\u001b[0m\n\u001b[0;32m      1\u001b[0m \u001b[38;5;28;01mimport\u001b[39;00m \u001b[38;5;21;01mmatplotlib\u001b[39;00m\u001b[38;5;21;01m.\u001b[39;00m\u001b[38;5;21;01mpyplot\u001b[39;00m \u001b[38;5;28;01mas\u001b[39;00m \u001b[38;5;21;01mplt\u001b[39;00m\n\u001b[0;32m      3\u001b[0m op \u001b[38;5;241m=\u001b[39m Optimizer(lr\u001b[38;5;241m=\u001b[39m\u001b[38;5;241m0.001\u001b[39m, annealing_rate\u001b[38;5;241m=\u001b[39m\u001b[38;5;241m0.99\u001b[39m, batch_size\u001b[38;5;241m=\u001b[39m\u001b[38;5;241m5\u001b[39m, max_epochs\u001b[38;5;241m=\u001b[39m\u001b[38;5;241m10\u001b[39m)\n\u001b[1;32m----> 5\u001b[0m w, A, B, C \u001b[38;5;241m=\u001b[39m \u001b[43mlasso_regression_gd2\u001b[49m(X_train, y_train, X_test, y_test, op)\n\u001b[0;32m      7\u001b[0m fig, ax \u001b[38;5;241m=\u001b[39m plt\u001b[38;5;241m.\u001b[39msubplots(\u001b[38;5;241m2\u001b[39m)\n\u001b[0;32m      8\u001b[0m fig\u001b[38;5;241m.\u001b[39msuptitle(\u001b[38;5;124m'\u001b[39m\u001b[38;5;124mmonitoring three learning curves (A, B, C)\u001b[39m\u001b[38;5;124m'\u001b[39m)\n",
      "\u001b[1;31mNameError\u001b[0m: name 'lasso_regression_gd2' is not defined"
     ]
    }
   ],
   "source": [
    "import matplotlib.pyplot as plt\n",
    "\n",
    "op = Optimizer(lr=0.001, annealing_rate=0.99, batch_size=5, max_epochs=10)\n",
    "\n",
    "w, A, B, C = lasso_regression_gd2(X_train, y_train, X_test, y_test, op)\n",
    "\n",
    "fig, ax = plt.subplots(2)\n",
    "fig.suptitle('monitoring three learning curves (A, B, C)')\n",
    "ax[0].plot(C, 'b', 0.196*np.ones(C.shape[0]), 'c--')\n",
    "ax[0].legend(['curve C', 'closed-form solution'])\n",
    "\n",
    "ax[1].plot(A, 'b', B, 'r')\n",
    "ax[1].legend(['curve A', 'curve B'])"
   ]
  },
  {
   "cell_type": "code",
   "execution_count": null,
   "metadata": {},
   "outputs": [],
   "source": []
  }
 ],
 "metadata": {
  "accelerator": "GPU",
  "colab": {
   "collapsed_sections": [],
   "provenance": []
  },
  "kernelspec": {
   "display_name": "Python 3 (ipykernel)",
   "language": "python",
   "name": "python3"
  },
  "language_info": {
   "codemirror_mode": {
    "name": "ipython",
    "version": 3
   },
   "file_extension": ".py",
   "mimetype": "text/x-python",
   "name": "python",
   "nbconvert_exporter": "python",
   "pygments_lexer": "ipython3",
   "version": "3.9.12"
  }
 },
 "nbformat": 4,
 "nbformat_minor": 1
}
